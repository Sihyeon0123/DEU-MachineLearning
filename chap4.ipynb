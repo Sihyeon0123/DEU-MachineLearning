{
 "cells": [
  {
   "cell_type": "code",
   "execution_count": 1,
   "id": "f905a031-cef6-4dfe-91ad-627806df87f9",
   "metadata": {},
   "outputs": [],
   "source": [
    "# Apriori 알고리즘\n",
    "from mlxtend.frequent_patterns import apriori, association_rules\n",
    "# 연관분석용 데이터 파일 변환\n",
    "from mlxtend.preprocessing import TransactionEncoder\n",
    "import pandas as pd\n",
    "import matplotlib.pyplot as plt"
   ]
  },
  {
   "cell_type": "code",
   "execution_count": 2,
   "id": "70187803-62af-4803-aa5c-7a6369ef1b50",
   "metadata": {},
   "outputs": [],
   "source": [
    "# 장바구니 데이터\n",
    "tran = [['A', 'B', 'C', 'D', 'E'],\n",
    "        ['B', 'C'],\n",
    "        ['A', 'B', 'F'],\n",
    "        ['A', 'B', 'G'],\n",
    "        ['A', 'F', 'H']]"
   ]
  },
  {
   "cell_type": "code",
   "execution_count": 3,
   "id": "43b4d54f-898b-439e-88cb-d68c8b846a15",
   "metadata": {},
   "outputs": [
    {
     "name": "stdout",
     "output_type": "stream",
     "text": [
      "[[ True  True  True  True  True False False False]\n",
      " [False  True  True False False False False False]\n",
      " [ True  True False False False  True False False]\n",
      " [ True  True False False False False  True False]\n",
      " [ True False False False False  True False  True]]\n",
      " ['A', 'B', 'C', 'D', 'E', 'F', 'G', 'H']\n"
     ]
    }
   ],
   "source": [
    "# 데이터 세트를 연관분석이 가능한 배열로 변환\n",
    "te = TransactionEncoder()\n",
    "tran_ar = te.fit(tran).fit_transform(tran)\n",
    "print(tran_ar)\n",
    "# 열이름\n",
    "print('', te.columns_)"
   ]
  },
  {
   "cell_type": "code",
   "execution_count": 4,
   "id": "c09b2466-a43f-4ee2-a649-8cb2c98ca863",
   "metadata": {},
   "outputs": [
    {
     "name": "stdout",
     "output_type": "stream",
     "text": [
      "       A      B      C      D      E      F      G      H\n",
      "0   True   True   True   True   True  False  False  False\n",
      "1  False   True   True  False  False  False  False  False\n",
      "2   True   True  False  False  False   True  False  False\n",
      "3   True   True  False  False  False  False   True  False\n",
      "4   True  False  False  False  False   True  False   True\n"
     ]
    }
   ],
   "source": [
    "# 데이터 프레임으로 변환\n",
    "df = pd.DataFrame(tran_ar, columns=te.columns_)\n",
    "print(df)"
   ]
  },
  {
   "cell_type": "code",
   "execution_count": 5,
   "id": "995215c0-037b-4da1-8274-dc57c3202dfc",
   "metadata": {},
   "outputs": [
    {
     "name": "stdout",
     "output_type": "stream",
     "text": [
      "   Frequency\n",
      "A          4\n",
      "B          4\n",
      "C          2\n",
      "F          2\n",
      "D          1\n",
      "E          1\n",
      "G          1\n",
      "H          1\n"
     ]
    }
   ],
   "source": [
    "# 각 상품별 거래 빈도\n",
    "freq = df.sum().to_frame('Frequency')\n",
    "# 빈도 역순으로 정렬\n",
    "freq_sort = freq.sort_values('Frequency', ascending=False)\n",
    "print(freq_sort)"
   ]
  },
  {
   "cell_type": "code",
   "execution_count": 6,
   "id": "36f37500-5a7b-4903-809d-c833ccb7e1c9",
   "metadata": {},
   "outputs": [
    {
     "name": "stdout",
     "output_type": "stream",
     "text": [
      "   Frequency  Support\n",
      "A          4    0.500\n",
      "B          4    0.500\n",
      "C          2    0.250\n",
      "F          2    0.250\n",
      "D          1    0.125\n",
      "E          1    0.125\n",
      "G          1    0.125\n",
      "H          1    0.125\n"
     ]
    }
   ],
   "source": [
    "# 지지도\n",
    "freq_sort['Support'] = freq_sort['Frequency'] / len(freq_sort)\n",
    "print(freq_sort)"
   ]
  },
  {
   "cell_type": "code",
   "execution_count": 7,
   "id": "0ceccf0a-3bf4-44df-ac9f-ff3dc2023309",
   "metadata": {},
   "outputs": [
    {
     "data": {
      "text/plain": [
       "<Axes: title={'center': 'Frequent Items'}>"
      ]
     },
     "execution_count": 7,
     "metadata": {},
     "output_type": "execute_result"
    },
    {
     "data": {
      "image/png": "[encoded data removed]",
      "text/plain": [
       "<Figure size 640x480 with 1 Axes>"
      ]
     },
     "metadata": {},
     "output_type": "display_data"
    }
   ],
   "source": [
    "# 상품 아이템별 거래 빈도\n",
    "freq_sort['Frequency'].plot(kind='bar', title=\"Frequent Items\")"
   ]
  },
  {
   "cell_type": "code",
   "execution_count": 8,
   "id": "fee4c31b-79b1-4244-bdc5-1daa0ad28309",
   "metadata": {},
   "outputs": [
    {
     "data": {
      "text/plain": [
       "<Axes: >"
      ]
     },
     "execution_count": 8,
     "metadata": {},
     "output_type": "execute_result"
    },
    {
     "data": {
      "image/png": "[encoded data removed]",
      "text/plain": [
       "<Figure size 640x480 with 1 Axes>"
      ]
     },
     "metadata": {},
     "output_type": "display_data"
    }
   ],
   "source": [
    "# 상품 아이템 지지도의 히스토그램\n",
    "freq_sort['Support'].hist(bins=6)"
   ]
  },
  {
   "cell_type": "code",
   "execution_count": 9,
   "id": "bab7ff2d-3453-4de9-8627-2ba2b4bda680",
   "metadata": {},
   "outputs": [
    {
     "name": "stdout",
     "output_type": "stream",
     "text": [
      "   support itemsets\n",
      "0      0.8      (A)\n",
      "1      0.8      (B)\n",
      "2      0.4      (C)\n",
      "3      0.4      (F)\n",
      "4      0.6   (B, A)\n",
      "5      0.4   (F, A)\n",
      "6      0.4   (C, B)\n"
     ]
    }
   ],
   "source": [
    "# 반발항목과 지지도\n",
    "freq_items = apriori(df, min_support=0.4, use_colnames=True)\n",
    "print(freq_items)"
   ]
  },
  {
   "cell_type": "code",
   "execution_count": 10,
   "id": "10307f5d-292e-46c8-88a1-2bda93446ce5",
   "metadata": {},
   "outputs": [
    {
     "data": {
      "text/html": [
       "<div>\n",
       "<style scoped>\n",
       "    .dataframe tbody tr th:only-of-type {\n",
       "        vertical-align: middle;\n",
       "    }\n",
       "\n",
       "    .dataframe tbody tr th {\n",
       "        vertical-align: top;\n",
       "    }\n",
       "\n",
       "    .dataframe thead th {\n",
       "        text-align: right;\n",
       "    }\n",
       "</style>\n",
       "<table border=\"1\" class=\"dataframe\">\n",
       "  <thead>\n",
       "    <tr style=\"text-align: right;\">\n",
       "      <th></th>\n",
       "      <th>antecedents</th>\n",
       "      <th>consequents</th>\n",
       "      <th>antecedent support</th>\n",
       "      <th>consequent support</th>\n",
       "      <th>support</th>\n",
       "      <th>confidence</th>\n",
       "      <th>lift</th>\n",
       "      <th>leverage</th>\n",
       "      <th>conviction</th>\n",
       "      <th>zhangs_metric</th>\n",
       "    </tr>\n",
       "  </thead>\n",
       "  <tbody>\n",
       "    <tr>\n",
       "      <th>0</th>\n",
       "      <td>(B)</td>\n",
       "      <td>(A)</td>\n",
       "      <td>0.8</td>\n",
       "      <td>0.8</td>\n",
       "      <td>0.6</td>\n",
       "      <td>0.75</td>\n",
       "      <td>0.9375</td>\n",
       "      <td>-0.04</td>\n",
       "      <td>0.8</td>\n",
       "      <td>-0.250000</td>\n",
       "    </tr>\n",
       "    <tr>\n",
       "      <th>1</th>\n",
       "      <td>(A)</td>\n",
       "      <td>(B)</td>\n",
       "      <td>0.8</td>\n",
       "      <td>0.8</td>\n",
       "      <td>0.6</td>\n",
       "      <td>0.75</td>\n",
       "      <td>0.9375</td>\n",
       "      <td>-0.04</td>\n",
       "      <td>0.8</td>\n",
       "      <td>-0.250000</td>\n",
       "    </tr>\n",
       "    <tr>\n",
       "      <th>2</th>\n",
       "      <td>(F)</td>\n",
       "      <td>(A)</td>\n",
       "      <td>0.4</td>\n",
       "      <td>0.8</td>\n",
       "      <td>0.4</td>\n",
       "      <td>1.00</td>\n",
       "      <td>1.2500</td>\n",
       "      <td>0.08</td>\n",
       "      <td>inf</td>\n",
       "      <td>0.333333</td>\n",
       "    </tr>\n",
       "    <tr>\n",
       "      <th>3</th>\n",
       "      <td>(C)</td>\n",
       "      <td>(B)</td>\n",
       "      <td>0.4</td>\n",
       "      <td>0.8</td>\n",
       "      <td>0.4</td>\n",
       "      <td>1.00</td>\n",
       "      <td>1.2500</td>\n",
       "      <td>0.08</td>\n",
       "      <td>inf</td>\n",
       "      <td>0.333333</td>\n",
       "    </tr>\n",
       "  </tbody>\n",
       "</table>\n",
       "</div>"
      ],
      "text/plain": [
       "  antecedents consequents  antecedent support  consequent support  support  \\\n",
       "0         (B)         (A)                 0.8                 0.8      0.6   \n",
       "1         (A)         (B)                 0.8                 0.8      0.6   \n",
       "2         (F)         (A)                 0.4                 0.8      0.4   \n",
       "3         (C)         (B)                 0.4                 0.8      0.4   \n",
       "\n",
       "   confidence    lift  leverage  conviction  zhangs_metric  \n",
       "0        0.75  0.9375     -0.04         0.8      -0.250000  \n",
       "1        0.75  0.9375     -0.04         0.8      -0.250000  \n",
       "2        1.00  1.2500      0.08         inf       0.333333  \n",
       "3        1.00  1.2500      0.08         inf       0.333333  "
      ]
     },
     "execution_count": 10,
     "metadata": {},
     "output_type": "execute_result"
    }
   ],
   "source": [
    "# 연관규칙\n",
    "rules = association_rules(freq_items, metric=\"confidence\", min_threshold=0.7)\n",
    "rules"
   ]
  },
  {
   "cell_type": "code",
   "execution_count": 11,
   "id": "a628cd21-f832-47da-83ea-932d01332b73",
   "metadata": {},
   "outputs": [
    {
     "data": {
      "text/html": [
       "<div>\n",
       "<style scoped>\n",
       "    .dataframe tbody tr th:only-of-type {\n",
       "        vertical-align: middle;\n",
       "    }\n",
       "\n",
       "    .dataframe tbody tr th {\n",
       "        vertical-align: top;\n",
       "    }\n",
       "\n",
       "    .dataframe thead th {\n",
       "        text-align: right;\n",
       "    }\n",
       "</style>\n",
       "<table border=\"1\" class=\"dataframe\">\n",
       "  <thead>\n",
       "    <tr style=\"text-align: right;\">\n",
       "      <th></th>\n",
       "      <th>antecedents</th>\n",
       "      <th>consequents</th>\n",
       "      <th>antecedent support</th>\n",
       "      <th>consequent support</th>\n",
       "      <th>support</th>\n",
       "      <th>confidence</th>\n",
       "      <th>lift</th>\n",
       "      <th>leverage</th>\n",
       "      <th>conviction</th>\n",
       "      <th>zhangs_metric</th>\n",
       "    </tr>\n",
       "  </thead>\n",
       "  <tbody>\n",
       "    <tr>\n",
       "      <th>2</th>\n",
       "      <td>(F)</td>\n",
       "      <td>(A)</td>\n",
       "      <td>0.4</td>\n",
       "      <td>0.8</td>\n",
       "      <td>0.4</td>\n",
       "      <td>1.00</td>\n",
       "      <td>1.2500</td>\n",
       "      <td>0.08</td>\n",
       "      <td>inf</td>\n",
       "      <td>0.333333</td>\n",
       "    </tr>\n",
       "    <tr>\n",
       "      <th>3</th>\n",
       "      <td>(C)</td>\n",
       "      <td>(B)</td>\n",
       "      <td>0.4</td>\n",
       "      <td>0.8</td>\n",
       "      <td>0.4</td>\n",
       "      <td>1.00</td>\n",
       "      <td>1.2500</td>\n",
       "      <td>0.08</td>\n",
       "      <td>inf</td>\n",
       "      <td>0.333333</td>\n",
       "    </tr>\n",
       "    <tr>\n",
       "      <th>0</th>\n",
       "      <td>(B)</td>\n",
       "      <td>(A)</td>\n",
       "      <td>0.8</td>\n",
       "      <td>0.8</td>\n",
       "      <td>0.6</td>\n",
       "      <td>0.75</td>\n",
       "      <td>0.9375</td>\n",
       "      <td>-0.04</td>\n",
       "      <td>0.8</td>\n",
       "      <td>-0.250000</td>\n",
       "    </tr>\n",
       "    <tr>\n",
       "      <th>1</th>\n",
       "      <td>(A)</td>\n",
       "      <td>(B)</td>\n",
       "      <td>0.8</td>\n",
       "      <td>0.8</td>\n",
       "      <td>0.6</td>\n",
       "      <td>0.75</td>\n",
       "      <td>0.9375</td>\n",
       "      <td>-0.04</td>\n",
       "      <td>0.8</td>\n",
       "      <td>-0.250000</td>\n",
       "    </tr>\n",
       "  </tbody>\n",
       "</table>\n",
       "</div>"
      ],
      "text/plain": [
       "  antecedents consequents  antecedent support  consequent support  support  \\\n",
       "2         (F)         (A)                 0.4                 0.8      0.4   \n",
       "3         (C)         (B)                 0.4                 0.8      0.4   \n",
       "0         (B)         (A)                 0.8                 0.8      0.6   \n",
       "1         (A)         (B)                 0.8                 0.8      0.6   \n",
       "\n",
       "   confidence    lift  leverage  conviction  zhangs_metric  \n",
       "2        1.00  1.2500      0.08         inf       0.333333  \n",
       "3        1.00  1.2500      0.08         inf       0.333333  \n",
       "0        0.75  0.9375     -0.04         0.8      -0.250000  \n",
       "1        0.75  0.9375     -0.04         0.8      -0.250000  "
      ]
     },
     "execution_count": 11,
     "metadata": {},
     "output_type": "execute_result"
    }
   ],
   "source": [
    "# 리프트가 1보다 큰 규칙\n",
    "rules - rules[(rules['lift']>1)]\n",
    "# 신뢰도 기준으로 내림차순 정렬\n",
    "rules.sort_values(by='confidence', ascending=False)"
   ]
  },
  {
   "cell_type": "code",
   "execution_count": 12,
   "id": "22ce1e3e-07eb-4471-a12b-52930458449c",
   "metadata": {},
   "outputs": [
    {
     "data": {
      "text/html": [
       "<div>\n",
       "<style scoped>\n",
       "    .dataframe tbody tr th:only-of-type {\n",
       "        vertical-align: middle;\n",
       "    }\n",
       "\n",
       "    .dataframe tbody tr th {\n",
       "        vertical-align: top;\n",
       "    }\n",
       "\n",
       "    .dataframe thead th {\n",
       "        text-align: right;\n",
       "    }\n",
       "</style>\n",
       "<table border=\"1\" class=\"dataframe\">\n",
       "  <thead>\n",
       "    <tr style=\"text-align: right;\">\n",
       "      <th></th>\n",
       "      <th>antecedents</th>\n",
       "      <th>consequents</th>\n",
       "      <th>antecedent support</th>\n",
       "      <th>consequent support</th>\n",
       "      <th>support</th>\n",
       "      <th>confidence</th>\n",
       "      <th>lift</th>\n",
       "      <th>leverage</th>\n",
       "      <th>conviction</th>\n",
       "      <th>zhangs_metric</th>\n",
       "    </tr>\n",
       "  </thead>\n",
       "  <tbody>\n",
       "    <tr>\n",
       "      <th>2</th>\n",
       "      <td>(F)</td>\n",
       "      <td>(A)</td>\n",
       "      <td>0.4</td>\n",
       "      <td>0.8</td>\n",
       "      <td>0.4</td>\n",
       "      <td>1.0</td>\n",
       "      <td>1.25</td>\n",
       "      <td>0.08</td>\n",
       "      <td>inf</td>\n",
       "      <td>0.333333</td>\n",
       "    </tr>\n",
       "  </tbody>\n",
       "</table>\n",
       "</div>"
      ],
      "text/plain": [
       "  antecedents consequents  antecedent support  consequent support  support  \\\n",
       "2         (F)         (A)                 0.4                 0.8      0.4   \n",
       "\n",
       "   confidence  lift  leverage  conviction  zhangs_metric  \n",
       "2         1.0  1.25      0.08         inf       0.333333  "
      ]
     },
     "execution_count": 12,
     "metadata": {},
     "output_type": "execute_result"
    }
   ],
   "source": [
    "# 조건부에 'F'가 있는 규칙\n",
    "rules[rules.antecedents.apply(lambda x: 'F' in x)]"
   ]
  },
  {
   "cell_type": "code",
   "execution_count": 13,
   "id": "0100aea8-2534-48f5-9fd3-f76daf3f210a",
   "metadata": {},
   "outputs": [
    {
     "data": {
      "text/html": [
       "<div>\n",
       "<style scoped>\n",
       "    .dataframe tbody tr th:only-of-type {\n",
       "        vertical-align: middle;\n",
       "    }\n",
       "\n",
       "    .dataframe tbody tr th {\n",
       "        vertical-align: top;\n",
       "    }\n",
       "\n",
       "    .dataframe thead th {\n",
       "        text-align: right;\n",
       "    }\n",
       "</style>\n",
       "<table border=\"1\" class=\"dataframe\">\n",
       "  <thead>\n",
       "    <tr style=\"text-align: right;\">\n",
       "      <th></th>\n",
       "      <th>antecedents</th>\n",
       "      <th>consequents</th>\n",
       "      <th>antecedent support</th>\n",
       "      <th>consequent support</th>\n",
       "      <th>support</th>\n",
       "      <th>confidence</th>\n",
       "      <th>lift</th>\n",
       "      <th>leverage</th>\n",
       "      <th>conviction</th>\n",
       "      <th>zhangs_metric</th>\n",
       "    </tr>\n",
       "  </thead>\n",
       "  <tbody>\n",
       "    <tr>\n",
       "      <th>0</th>\n",
       "      <td>(B)</td>\n",
       "      <td>(A)</td>\n",
       "      <td>0.8</td>\n",
       "      <td>0.8</td>\n",
       "      <td>0.6</td>\n",
       "      <td>0.75</td>\n",
       "      <td>0.9375</td>\n",
       "      <td>-0.04</td>\n",
       "      <td>0.8</td>\n",
       "      <td>-0.25</td>\n",
       "    </tr>\n",
       "  </tbody>\n",
       "</table>\n",
       "</div>"
      ],
      "text/plain": [
       "  antecedents consequents  antecedent support  consequent support  support  \\\n",
       "0         (B)         (A)                 0.8                 0.8      0.6   \n",
       "\n",
       "   confidence    lift  leverage  conviction  zhangs_metric  \n",
       "0        0.75  0.9375     -0.04         0.8          -0.25  "
      ]
     },
     "execution_count": 13,
     "metadata": {},
     "output_type": "execute_result"
    }
   ],
   "source": [
    "# 조건부에 'B'가 있는 규칙\n",
    "rules[rules.antecedents.apply(lambda x: 'B' in x)]"
   ]
  }
 ],
 "metadata": {
  "kernelspec": {
   "display_name": "Python 3 (ipykernel)",
   "language": "python",
   "name": "python3"
  },
  "language_info": {
   "codemirror_mode": {
    "name": "ipython",
    "version": 3
   },
   "file_extension": ".py",
   "mimetype": "text/x-python",
   "name": "python",
   "nbconvert_exporter": "python",
   "pygments_lexer": "ipython3",
   "version": "3.11.7"
  }
 },
 "nbformat": 4,
 "nbformat_minor": 5
}
